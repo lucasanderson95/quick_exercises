{
 "cells": [
  {
   "cell_type": "code",
   "execution_count": 1,
   "metadata": {},
   "outputs": [],
   "source": [
    "class Cliente:\n",
    "  def __init__(self, nome, email, plano):\n",
    "    self.nome = nome\n",
    "    self.email = email\n",
    "    self.lista_planos = [\"basic\", \"premium\"]\n",
    "    if plano in self.lista_planos:\n",
    "      self.plano = plano\n",
    "    else:\n",
    "      raise Exception(\"Plano inválido\")\n",
    "\n",
    "  def mudar_plano(self, novo_plano):\n",
    "    if novo_plano in self.lista_planos:\n",
    "      self.plano = novo_plano\n",
    "    else:\n",
    "      print(\"Plano inválido\")\n",
    "\n",
    "  def ver_filme(self, filme, plano_filme):\n",
    "    if self.plano == plano_filme:\n",
    "      print(f\"Ver Filme {filme}\")\n",
    "    elif self.plano == \"premium\":\n",
    "      print(f\"Ver Filme {filme}\")\n",
    "    elif self.plano == \"basic\" and plano_filme == \"premium\":\n",
    "       print(\"Faça um upgrade para Premium para ver esse filme\")\n",
    "    else:\n",
    "       print(\"Plano Inválido\") "
   ]
  },
  {
   "cell_type": "code",
   "execution_count": 2,
   "metadata": {},
   "outputs": [
    {
     "name": "stdout",
     "output_type": "stream",
     "text": [
      "premium\n"
     ]
    }
   ],
   "source": [
    "cliente = Cliente(\"Lucas\", \"lucasanderson@test.com\", \"premium\")\n",
    "print(cliente.plano)"
   ]
  },
  {
   "cell_type": "code",
   "execution_count": null,
   "metadata": {},
   "outputs": [],
   "source": [
    "cliente.mudar_plano(\"basic\")\n",
    "print(cliente.plano)\n"
   ]
  },
  {
   "cell_type": "code",
   "execution_count": null,
   "metadata": {},
   "outputs": [],
   "source": [
    "cliente.ver_filme(\"Harry Potter\", \"premium\")"
   ]
  }
 ],
 "metadata": {
  "kernelspec": {
   "display_name": "Python 3.10.5 64-bit",
   "language": "python",
   "name": "python3"
  },
  "language_info": {
   "codemirror_mode": {
    "name": "ipython",
    "version": 3
   },
   "file_extension": ".py",
   "mimetype": "text/x-python",
   "name": "python",
   "nbconvert_exporter": "python",
   "pygments_lexer": "ipython3",
   "version": "3.10.5"
  },
  "orig_nbformat": 4,
  "vscode": {
   "interpreter": {
    "hash": "37083a178839ddb6837eca99e3841ef7be6dad5dc50c6d19829e2187d61ddd5d"
   }
  }
 },
 "nbformat": 4,
 "nbformat_minor": 2
}
