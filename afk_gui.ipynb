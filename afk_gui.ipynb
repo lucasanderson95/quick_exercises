{
 "cells": [
  {
   "cell_type": "code",
   "execution_count": null,
   "metadata": {},
   "outputs": [],
   "source": [
    "#!pip install pyautogui\n",
    "\n",
    "import pyautogui as pag\n",
    "import random\n",
    "import time\n",
    "\n",
    "curr_coords = pag.position()\n",
    "afk_counter = 0\n",
    "while True:\n",
    "    if pag.position() == curr_coords:\n",
    "        afk_counter += 1\n",
    "    else:\n",
    "        afk_counter = 0\n",
    "        curr_coords = pag.position()\n",
    "    if afk_counter > 10:\n",
    "        x = random.randint(600, 700)\n",
    "        y = random.randint(200, 300)\n",
    "        pag.moveTo(x, y, 0.5)\n",
    "        curr_coords = pag.position()\n",
    "    print(f'AFK Counter: {afk_counter}')\n",
    "    time.sleep(1)"
   ]
  }
 ],
 "metadata": {
  "kernelspec": {
   "display_name": "Python 3.11.0 64-bit",
   "language": "python",
   "name": "python3"
  },
  "language_info": {
   "codemirror_mode": {
    "name": "ipython",
    "version": 3
   },
   "file_extension": ".py",
   "mimetype": "text/x-python",
   "name": "python",
   "nbconvert_exporter": "python",
   "pygments_lexer": "ipython3",
   "version": "3.11.0"
  },
  "orig_nbformat": 4,
  "vscode": {
   "interpreter": {
    "hash": "48c4422cbeabee5ddda685a70b33bef52fbe0d33bcd35df3f9247bd78183b7fb"
   }
  }
 },
 "nbformat": 4,
 "nbformat_minor": 2
}
