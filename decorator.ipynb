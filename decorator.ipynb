{
 "cells": [
  {
   "cell_type": "code",
   "execution_count": 3,
   "metadata": {},
   "outputs": [
    {
     "name": "stdout",
     "output_type": "stream",
     "text": [
      "Hello!\n",
      "Time: 1.02 seconds\n"
     ]
    }
   ],
   "source": [
    "from functools import wraps\n",
    "from time import perf_counter, sleep\n",
    "\n",
    "def get_time(func):\n",
    "    '''Times any function'''\n",
    "    \n",
    "    def wrapper(*args, **kwargs):\n",
    "        start_time = perf_counter()\n",
    "        \n",
    "        func(*args, **kwargs)\n",
    "        \n",
    "        end_time = perf_counter()\n",
    "        total_time = round(end_time - start_time, 2)\n",
    "        \n",
    "        print('Time:', total_time, 'seconds')   \n",
    "             \n",
    "    return wrapper\n",
    "\n",
    "@get_time    \n",
    "def do_something(param: str):\n",
    "    '''Does something important'''\n",
    "    \n",
    "    sleep(1)\n",
    "    print(param)\n",
    "    \n",
    "    \n",
    "if __name__ == '__main__':\n",
    "    do_something('Hello!')"
   ]
  }
 ],
 "metadata": {
  "kernelspec": {
   "display_name": "Python 3.10.5 64-bit",
   "language": "python",
   "name": "python3"
  },
  "language_info": {
   "codemirror_mode": {
    "name": "ipython",
    "version": 3
   },
   "file_extension": ".py",
   "mimetype": "text/x-python",
   "name": "python",
   "nbconvert_exporter": "python",
   "pygments_lexer": "ipython3",
   "version": "3.10.5 (tags/v3.10.5:f377153, Jun  6 2022, 16:14:13) [MSC v.1929 64 bit (AMD64)]"
  },
  "orig_nbformat": 4,
  "vscode": {
   "interpreter": {
    "hash": "37083a178839ddb6837eca99e3841ef7be6dad5dc50c6d19829e2187d61ddd5d"
   }
  }
 },
 "nbformat": 4,
 "nbformat_minor": 2
}
