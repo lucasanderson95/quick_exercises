{
 "cells": [
  {
   "cell_type": "code",
   "execution_count": 7,
   "metadata": {},
   "outputs": [
    {
     "name": "stdout",
     "output_type": "stream",
     "text": [
      "[552, 642, 892, 122, 454, 224, 234, 344, 562, 116, 554, 112, 680, 516]\n"
     ]
    }
   ],
   "source": [
    "def make_even(num):\n",
    "    if num%2==1:\n",
    "        return num+1\n",
    "    else:\n",
    "        return num\n",
    "    \n",
    "x = [551, 641, 891, 122, 453, 223, 234, 343, 562, 115, 554, 111, 679, 516]\n",
    "\n",
    "\n",
    "y = []\n",
    "for num in x:\n",
    "    y.append(make_even(num))\n",
    "print(y)"
   ]
  },
  {
   "cell_type": "code",
   "execution_count": 8,
   "metadata": {},
   "outputs": [
    {
     "name": "stdout",
     "output_type": "stream",
     "text": [
      "[552, 642, 892, 122, 454, 224, 234, 344, 562, 116, 554, 112, 680, 516]\n"
     ]
    }
   ],
   "source": [
    "def make_even(num):\n",
    "    if num%2==1:\n",
    "        return num+1\n",
    "    else:\n",
    "        return num\n",
    "    \n",
    "x = [551, 641, 891, 122, 453, 223, 234, 343, 562, 115, 554, 111, 679, 516]\n",
    "\n",
    "\n",
    "y = list(map(make_even, x))\n",
    "print(y)"
   ]
  }
 ],
 "metadata": {
  "kernelspec": {
   "display_name": "Python 3.11.0 64-bit",
   "language": "python",
   "name": "python3"
  },
  "language_info": {
   "codemirror_mode": {
    "name": "ipython",
    "version": 3
   },
   "file_extension": ".py",
   "mimetype": "text/x-python",
   "name": "python",
   "nbconvert_exporter": "python",
   "pygments_lexer": "ipython3",
   "version": "3.11.0"
  },
  "orig_nbformat": 4,
  "vscode": {
   "interpreter": {
    "hash": "48c4422cbeabee5ddda685a70b33bef52fbe0d33bcd35df3f9247bd78183b7fb"
   }
  }
 },
 "nbformat": 4,
 "nbformat_minor": 2
}
