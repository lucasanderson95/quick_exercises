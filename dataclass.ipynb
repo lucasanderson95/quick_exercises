{
 "cells": [
  {
   "cell_type": "code",
   "execution_count": 10,
   "metadata": {},
   "outputs": [
    {
     "name": "stdout",
     "output_type": "stream",
     "text": [
      "John\n",
      "Person(name='John', address='123 Main St', active=True, email_addresses='test@test.com', id='WLLGYJMCKQKN')\n"
     ]
    }
   ],
   "source": [
    "import random\n",
    "import string\n",
    "from dataclasses import dataclass, field\n",
    "\n",
    "def generate_id() -> str:\n",
    "    return ''.join(random.choices(string.ascii_uppercase, k=12))\n",
    "\n",
    "@dataclass(kw_only=True, slots=False)\n",
    "class Person:\n",
    "    name: str\n",
    "    address: str\n",
    "    active: bool = True\n",
    "    email_addresses: list[str] = field(default_factory=list)\n",
    "    id: str = field(default_factory=generate_id)\n",
    "    _search_string: str = field(init=False, repr=False)\n",
    "    \n",
    "    def __post_init__(self) -> None:\n",
    "        self._search_string = f'{self.name} {self.address}'\n",
    "    \n",
    "def main() -> None:\n",
    "    person = Person(name='John', address='123 Main St', email_addresses='test@test.com')\n",
    "    print(person.__dict__['name']) #slots\n",
    "    print(person)\n",
    "    \n",
    "if __name__ == '__main__':\n",
    "    main()"
   ]
  }
 ],
 "metadata": {
  "kernelspec": {
   "display_name": "Python 3",
   "language": "python",
   "name": "python3"
  },
  "language_info": {
   "codemirror_mode": {
    "name": "ipython",
    "version": 3
   },
   "file_extension": ".py",
   "mimetype": "text/x-python",
   "name": "python",
   "nbconvert_exporter": "python",
   "pygments_lexer": "ipython3",
   "version": "3.10.5 (tags/v3.10.5:f377153, Jun  6 2022, 16:14:13) [MSC v.1929 64 bit (AMD64)]"
  },
  "orig_nbformat": 4,
  "vscode": {
   "interpreter": {
    "hash": "37083a178839ddb6837eca99e3841ef7be6dad5dc50c6d19829e2187d61ddd5d"
   }
  }
 },
 "nbformat": 4,
 "nbformat_minor": 2
}
