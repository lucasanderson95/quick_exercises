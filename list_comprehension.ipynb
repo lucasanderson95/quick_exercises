{
 "cells": [
  {
   "attachments": {},
   "cell_type": "markdown",
   "metadata": {},
   "source": [
    "### Exemplo 1"
   ]
  },
  {
   "cell_type": "code",
   "execution_count": 2,
   "metadata": {},
   "outputs": [],
   "source": [
    "lista_precos = [500, 1500, 2000, 100, 25]"
   ]
  },
  {
   "cell_type": "code",
   "execution_count": 3,
   "metadata": {},
   "outputs": [
    {
     "name": "stdout",
     "output_type": "stream",
     "text": [
      "[1000, 3000, 4000, 200, 50]\n",
      "[750.0, 1000.0]\n"
     ]
    }
   ],
   "source": [
    "nova_lista = []\n",
    "for preco in lista_precos:\n",
    "    nova_lista.append(preco * 2)\n",
    "\n",
    "imposto = []\n",
    "for preco in lista_precos:\n",
    "    if preco > 1000:\n",
    "        imposto.append(preco * 0.5)\n",
    "        \n",
    "print(nova_lista)\n",
    "print(imposto)"
   ]
  },
  {
   "cell_type": "code",
   "execution_count": 4,
   "metadata": {},
   "outputs": [
    {
     "name": "stdout",
     "output_type": "stream",
     "text": [
      "[1000, 3000, 4000, 200, 50]\n",
      "[750.0, 1000.0]\n"
     ]
    }
   ],
   "source": [
    "nova_lista_2 = [preco * 2 for preco in lista_precos]\n",
    "imposto_2 = [preco * 0.5 for preco in lista_precos if preco > 1000]\n",
    "\n",
    "print(nova_lista_2)\n",
    "print(imposto_2)"
   ]
  },
  {
   "attachments": {},
   "cell_type": "markdown",
   "metadata": {},
   "source": [
    "### Exemplo 2"
   ]
  },
  {
   "cell_type": "code",
   "execution_count": 2,
   "metadata": {},
   "outputs": [
    {
     "name": "stdout",
     "output_type": "stream",
     "text": [
      "O maior é 20\n"
     ]
    }
   ],
   "source": [
    "a = 20\n",
    "b = 10\n",
    "\n",
    "if (a > b):\n",
    "    print(\"O maior é\", a)\n",
    "else:\n",
    "    print(\"O maior é\", b)"
   ]
  },
  {
   "cell_type": "code",
   "execution_count": 3,
   "metadata": {},
   "outputs": [
    {
     "name": "stdout",
     "output_type": "stream",
     "text": [
      "O maior é 20\n"
     ]
    }
   ],
   "source": [
    "a = 20\n",
    "b = 10\n",
    "\n",
    "res = a if a > b else b\n",
    "print(\"O maior é\", res)\n"
   ]
  }
 ],
 "metadata": {
  "kernelspec": {
   "display_name": "Python 3",
   "language": "python",
   "name": "python3"
  },
  "language_info": {
   "codemirror_mode": {
    "name": "ipython",
    "version": 3
   },
   "file_extension": ".py",
   "mimetype": "text/x-python",
   "name": "python",
   "nbconvert_exporter": "python",
   "pygments_lexer": "ipython3",
   "version": "3.10.5"
  },
  "orig_nbformat": 4,
  "vscode": {
   "interpreter": {
    "hash": "37083a178839ddb6837eca99e3841ef7be6dad5dc50c6d19829e2187d61ddd5d"
   }
  }
 },
 "nbformat": 4,
 "nbformat_minor": 2
}
