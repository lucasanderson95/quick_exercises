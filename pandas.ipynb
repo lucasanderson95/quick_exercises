{
 "cells": [
  {
   "cell_type": "code",
   "execution_count": 1,
   "metadata": {},
   "outputs": [],
   "source": [
    "import pandas as pd\n",
    "from datetime import datetime\n",
    "import warnings\n",
    "warnings.filterwarnings('ignore')\n",
    "pd.set_option('display.max_columns', None)\n",
    "pd.set_option('display.max_rows', None)\n",
    "\n",
    "d = {\n",
    "    'user_id': [125,23,389,44,505,661,101,690], \n",
    "    'user_birthdate': ['01/05/1980','25/08/1975','01/03/1991','10/06/1984',\n",
    "                       '05/01/1988','09/12/1996','23/07/1975','03/07/1995'],\n",
    "    'user_name': ['JoHn|','Mi ke','Cha rLi3','Jeff','P4trick','Ma.tt','jAmes', 'Lucas'], \n",
    "    'user_money': ['$1,200','$2,555','$754','$980','$3,100','$2,955','$8,500', '$4200']\n",
    "    }\n",
    "\n",
    "df = pd.DataFrame(data=d)"
   ]
  },
  {
   "cell_type": "code",
   "execution_count": 2,
   "metadata": {},
   "outputs": [],
   "source": [
    "store_patterns = [('JoHn|', 'John'), ('Mi ke','Mike'), ('Cha rLi3', 'Charlie'), \n",
    "                  ('P4trick','Patrick'), ('Ma.tt', 'Matt'), ('jAmes', 'James')]\n",
    "\n",
    "def generalize(ser, match_name, default=None, regex=False, case=False):\n",
    "    seen = None\n",
    "    for match, name in match_name:\n",
    "        mask = ser.str.contains(match, case=case, regex=regex)\n",
    "        if seen is None:\n",
    "            seen = mask\n",
    "        else:\n",
    "            seen |= mask\n",
    "        ser = ser.where(~mask, name)\n",
    "    if default:\n",
    "        ser = ser.where(seen, default)\n",
    "    else:\n",
    "        ser = ser.where(seen, ser.values)\n",
    "        \n",
    "    return ser\n"
   ]
  },
  {
   "cell_type": "code",
   "execution_count": 3,
   "metadata": {},
   "outputs": [
    {
     "data": {
      "text/html": [
       "<div><div id=3672a319-ce1e-4b1c-84e1-9b849d88a0a0 style=\"display:none; background-color:#9D6CFF; color:white; width:200px; height:30px; padding-left:5px; border-radius:4px; flex-direction:row; justify-content:space-around; align-items:center;\" onmouseover=\"this.style.backgroundColor='#BA9BF8'\" onmouseout=\"this.style.backgroundColor='#9D6CFF'\" onclick=\"window.commands?.execute('create-mitosheet-from-dataframe-output');\">See Full Dataframe in Mito</div> <script> if (window.commands?.hasCommand('create-mitosheet-from-dataframe-output')) document.getElementById('3672a319-ce1e-4b1c-84e1-9b849d88a0a0').style.display = 'flex' </script> <table border=\"1\" class=\"dataframe\">\n",
       "  <thead>\n",
       "    <tr style=\"text-align: right;\">\n",
       "      <th></th>\n",
       "      <th>user_id</th>\n",
       "      <th>user_birthdate</th>\n",
       "      <th>user_name</th>\n",
       "      <th>user_money</th>\n",
       "    </tr>\n",
       "  </thead>\n",
       "  <tbody>\n",
       "    <tr>\n",
       "      <th>0</th>\n",
       "      <td>690</td>\n",
       "      <td>1995-03-07</td>\n",
       "      <td>Lucas</td>\n",
       "      <td>4200</td>\n",
       "    </tr>\n",
       "    <tr>\n",
       "      <th>1</th>\n",
       "      <td>505</td>\n",
       "      <td>1988-05-01</td>\n",
       "      <td>Patrick</td>\n",
       "      <td>3100</td>\n",
       "    </tr>\n",
       "    <tr>\n",
       "      <th>2</th>\n",
       "      <td>661</td>\n",
       "      <td>1996-09-12</td>\n",
       "      <td>Matt</td>\n",
       "      <td>2955</td>\n",
       "    </tr>\n",
       "    <tr>\n",
       "      <th>3</th>\n",
       "      <td>389</td>\n",
       "      <td>1991-01-03</td>\n",
       "      <td>Charlie</td>\n",
       "      <td>754</td>\n",
       "    </tr>\n",
       "  </tbody>\n",
       "</table></div>"
      ],
      "text/plain": [
       "   user_id user_birthdate user_name  user_money\n",
       "0      690     1995-03-07     Lucas        4200\n",
       "1      505     1988-05-01   Patrick        3100\n",
       "2      661     1996-09-12      Matt        2955\n",
       "3      389     1991-01-03   Charlie         754"
      ]
     },
     "execution_count": 3,
     "metadata": {},
     "output_type": "execute_result"
    }
   ],
   "source": [
    "df['user_birthdate'] = df['user_birthdate'].astype('datetime64[ns]')\n",
    "df['user_name'] = generalize(df['user_name'], store_patterns)\n",
    "df['user_money'] = (df['user_money']\n",
    "    .str.findall(r'\\d+')\n",
    "    .str.join('')\n",
    "    .astype(int))\n",
    "df = (df\n",
    "    .query('user_money > 3000' and 'user_birthdate > 1985')\n",
    "    .sort_values(by='user_money', ascending=False)\n",
    "    .reset_index(drop=True))\n",
    "\n",
    "df.head()"
   ]
  }
 ],
 "metadata": {
  "kernelspec": {
   "display_name": "Python 3",
   "language": "python",
   "name": "python3"
  },
  "language_info": {
   "codemirror_mode": {
    "name": "ipython",
    "version": 3
   },
   "file_extension": ".py",
   "mimetype": "text/x-python",
   "name": "python",
   "nbconvert_exporter": "python",
   "pygments_lexer": "ipython3",
   "version": "3.10.5"
  },
  "orig_nbformat": 4,
  "vscode": {
   "interpreter": {
    "hash": "37083a178839ddb6837eca99e3841ef7be6dad5dc50c6d19829e2187d61ddd5d"
   }
  }
 },
 "nbformat": 4,
 "nbformat_minor": 2
}
