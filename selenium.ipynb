{
 "cells": [
  {
   "cell_type": "code",
   "execution_count": 1,
   "metadata": {},
   "outputs": [],
   "source": [
    "#!pip install selenium\n",
    "#!pip install webdriver-manager\n",
    "#!pip install tqdm\n",
    "\n",
    "from selenium import webdriver\n",
    "from webdriver_manager.chrome import ChromeDriverManager\n",
    "from selenium.webdriver.chrome.service import Service\n",
    "from selenium.webdriver.common.by import By\n",
    "import pandas as pd\n",
    "from tqdm import tqdm\n",
    "from tqdm.notebook import tqdm_notebook\n",
    "import time\n",
    "import warnings\n",
    "warnings.filterwarnings('ignore')\n",
    "pd.set_option('display.max_columns', None)\n",
    "pd.set_option('display.max_rows', None)"
   ]
  },
  {
   "cell_type": "code",
   "execution_count": 2,
   "metadata": {},
   "outputs": [
    {
     "data": {
      "application/vnd.jupyter.widget-view+json": {
       "model_id": "0a09f0a525ff432daacfd97d12cad2a2",
       "version_major": 2,
       "version_minor": 0
      },
      "text/plain": [
       "Loading:   0%|          | 0/290 [00:00<?, ?it/s]"
      ]
     },
     "metadata": {},
     "output_type": "display_data"
    }
   ],
   "source": [
    "#service = Service(ChromeDriverManager().install())\n",
    "#driver = webdriver.Chrome(service=service)\n",
    "\n",
    "op = webdriver.ChromeOptions()\n",
    "op.add_argument('headless')\n",
    "driver = webdriver.Chrome(options=op)\n",
    "\n",
    "url = \"https://www.mercadolivre.com.br/ofertas?page=\"\n",
    "produtos = []\n",
    "preco = []\n",
    "desconto = []\n",
    "\n",
    "for i in tqdm_notebook(range(1, 291), desc='Loading'):\n",
    "    driver.get(url + str(i))\n",
    "    driver.implicitly_wait(1)\n",
    "    \n",
    "    tituloProduto = driver.find_elements(By.CLASS_NAME, \"promotion-item__title\")\n",
    "    precoProduto = driver.find_elements(By.CLASS_NAME, \"andes-money-amount__fraction\")\n",
    "    produtoDesconto = driver.find_elements(By.CLASS_NAME, \"andes-money-amount__discount\")\n",
    "    \n",
    "    for x in tituloProduto:\n",
    "        produtos.append(x.text)\n",
    "\n",
    "    for x in precoProduto:\n",
    "        preco.append(x.text)\n",
    "        \n",
    "    for x in produtoDesconto:\n",
    "        desconto.append(x.text)\n",
    "\n",
    "df = pd.DataFrame()\n",
    "\n",
    "df['produto'] = pd.Series(produtos)\n",
    "df['preco'] = pd.Series(preco)\n",
    "df['desconto'] = pd.Series(desconto)\n",
    "df.dropna(how='any', inplace=True)"
   ]
  },
  {
   "cell_type": "code",
   "execution_count": 2,
   "metadata": {},
   "outputs": [],
   "source": [
    "#df.to_pickle('df.pkl')\n",
    "df = pd.read_pickle('df.pkl')"
   ]
  },
  {
   "cell_type": "code",
   "execution_count": 3,
   "metadata": {},
   "outputs": [
    {
     "data": {
      "application/vnd.jupyter.widget-view+json": {
       "model_id": "4290e56171264188b5fe5302be25d13c",
       "version_major": 2,
       "version_minor": 0
      },
      "text/plain": [
       "Processing:   0%|          | 0/13640 [00:00<?, ?it/s]"
      ]
     },
     "metadata": {},
     "output_type": "display_data"
    },
    {
     "data": {
      "application/vnd.jupyter.widget-view+json": {
       "model_id": "874c04a39221472d91ed55aa860249b3",
       "version_major": 2,
       "version_minor": 0
      },
      "text/plain": [
       "Processing:   0%|          | 0/13640 [00:00<?, ?it/s]"
      ]
     },
     "metadata": {},
     "output_type": "display_data"
    }
   ],
   "source": [
    "for p in tqdm_notebook(df['preco'], desc='Processing'):\n",
    "    df['preco'] = pd.Series(df['preco'], dtype=\"string\").str.replace('.', '').astype(int)\n",
    "    \n",
    "for d in tqdm_notebook(df['desconto'], desc='Processing'):\n",
    "    df['desconto'] = pd.Series(df['desconto'], dtype=\"string\").str.replace('% OFF', '').astype(int)"
   ]
  },
  {
   "cell_type": "code",
   "execution_count": 5,
   "metadata": {},
   "outputs": [
    {
     "name": "stdout",
     "output_type": "stream",
     "text": [
      "O valor médio é de R$947.08 e o desconto médio é de 25.40%\n"
     ]
    }
   ],
   "source": [
    "price_mean = df.preco.mean()\n",
    "disc_mean = df.desconto.mean()\n",
    "\n",
    "print('O valor médio é de R$%.2f' % price_mean, 'e o desconto médio é de %.2f%%' % disc_mean)"
   ]
  },
  {
   "cell_type": "code",
   "execution_count": 7,
   "metadata": {},
   "outputs": [
    {
     "data": {
      "text/html": [
       "<div><div id=85d7b577-9b82-497f-9e2d-cd49a6d24c30 style=\"display:none; background-color:#9D6CFF; color:white; width:200px; height:30px; padding-left:5px; border-radius:4px; flex-direction:row; justify-content:space-around; align-items:center;\" onmouseover=\"this.style.backgroundColor='#BA9BF8'\" onmouseout=\"this.style.backgroundColor='#9D6CFF'\" onclick=\"window.commands?.execute('create-mitosheet-from-dataframe-output');\">See Full Dataframe in Mito</div> <script> if (window.commands?.hasCommand('create-mitosheet-from-dataframe-output')) document.getElementById('85d7b577-9b82-497f-9e2d-cd49a6d24c30').style.display = 'flex' </script> <table border=\"1\" class=\"dataframe\">\n",
       "  <thead>\n",
       "    <tr style=\"text-align: right;\">\n",
       "      <th></th>\n",
       "      <th>produto</th>\n",
       "      <th>preco</th>\n",
       "      <th>desconto</th>\n",
       "    </tr>\n",
       "  </thead>\n",
       "  <tbody>\n",
       "    <tr>\n",
       "      <th>2734</th>\n",
       "      <td>Robô Aspirador Wap Robot W90 3 Modos De Limpeza Fw009026</td>\n",
       "      <td>7549</td>\n",
       "      <td>12</td>\n",
       "    </tr>\n",
       "    <tr>\n",
       "      <th>1156</th>\n",
       "      <td>Braço Transversal Traseiro Direito Honda Civic 91 A 2001</td>\n",
       "      <td>7199</td>\n",
       "      <td>15</td>\n",
       "    </tr>\n",
       "    <tr>\n",
       "      <th>586</th>\n",
       "      <td>Pistola Pintura Pulverizadora Tinta Paint Com Bico De Metal</td>\n",
       "      <td>6799</td>\n",
       "      <td>26</td>\n",
       "    </tr>\n",
       "    <tr>\n",
       "      <th>2364</th>\n",
       "      <td>Samsung Galaxy A03 Core Dual SIM 32 GB black 2 GB RAM</td>\n",
       "      <td>6599</td>\n",
       "      <td>41</td>\n",
       "    </tr>\n",
       "    <tr>\n",
       "      <th>2733</th>\n",
       "      <td>Smart TV Philips 6900 Series 43PFG6917/78 LED Full HD 43\" 110V/240V</td>\n",
       "      <td>6419</td>\n",
       "      <td>31</td>\n",
       "    </tr>\n",
       "    <tr>\n",
       "      <th>2189</th>\n",
       "      <td>Impressora Térmica Epson Tm-t20x Não Fiscal Usb - C31ch26031 Cor Preto Voltagem Bivolt</td>\n",
       "      <td>6137</td>\n",
       "      <td>30</td>\n",
       "    </tr>\n",
       "    <tr>\n",
       "      <th>2363</th>\n",
       "      <td>Vinho Casillero Del Diablo 2019 Adega Concha Y Toro 750 Ml</td>\n",
       "      <td>5599</td>\n",
       "      <td>10</td>\n",
       "    </tr>\n",
       "    <tr>\n",
       "      <th>585</th>\n",
       "      <td>Rifle M4a1 + Pistola Airsoft Vigor V307 + Esferas 0,12g Loi</td>\n",
       "      <td>5499</td>\n",
       "      <td>42</td>\n",
       "    </tr>\n",
       "    <tr>\n",
       "      <th>2188</th>\n",
       "      <td>Máquina Solda Inversora Mig 150a 127v Sem Gás Tig Lift</td>\n",
       "      <td>5099</td>\n",
       "      <td>12</td>\n",
       "    </tr>\n",
       "    <tr>\n",
       "      <th>2278</th>\n",
       "      <td>Impressora a cor multifuncional HP Deskjet Ink Advantage 2774 com wifi preta 100V/240V</td>\n",
       "      <td>5057</td>\n",
       "      <td>25</td>\n",
       "    </tr>\n",
       "  </tbody>\n",
       "</table></div>"
      ],
      "text/plain": [
       "                                                produto  preco  desconto\n",
       "2734  Robô Aspirador Wap Robot W90 3 Modos De Limpez...   7549        12\n",
       "1156  Braço Transversal Traseiro Direito Honda Civic...   7199        15\n",
       "586   Pistola Pintura Pulverizadora Tinta Paint Com ...   6799        26\n",
       "2364  Samsung Galaxy A03 Core Dual SIM 32 GB black 2...   6599        41\n",
       "2733  Smart TV Philips 6900 Series 43PFG6917/78 LED ...   6419        31\n",
       "2189  Impressora Térmica Epson Tm-t20x Não Fiscal Us...   6137        30\n",
       "2363  Vinho Casillero Del Diablo 2019 Adega Concha Y...   5599        10\n",
       "585   Rifle M4a1 + Pistola Airsoft Vigor V307 + Esfe...   5499        42\n",
       "2188  Máquina Solda Inversora Mig 150a 127v Sem Gás ...   5099        12\n",
       "2278  Impressora a cor multifuncional HP Deskjet Ink...   5057        25"
      ]
     },
     "execution_count": 7,
     "metadata": {},
     "output_type": "execute_result"
    }
   ],
   "source": [
    "df.sort_values(by='preco', ascending=False).head(10)"
   ]
  }
 ],
 "metadata": {
  "kernelspec": {
   "display_name": "Python 3",
   "language": "python",
   "name": "python3"
  },
  "language_info": {
   "codemirror_mode": {
    "name": "ipython",
    "version": 3
   },
   "file_extension": ".py",
   "mimetype": "text/x-python",
   "name": "python",
   "nbconvert_exporter": "python",
   "pygments_lexer": "ipython3",
   "version": "3.10.5"
  },
  "orig_nbformat": 4,
  "vscode": {
   "interpreter": {
    "hash": "37083a178839ddb6837eca99e3841ef7be6dad5dc50c6d19829e2187d61ddd5d"
   }
  }
 },
 "nbformat": 4,
 "nbformat_minor": 2
}
