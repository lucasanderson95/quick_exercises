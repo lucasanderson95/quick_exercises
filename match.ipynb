{
 "cells": [
  {
   "cell_type": "code",
   "execution_count": 3,
   "metadata": {},
   "outputs": [
    {
     "name": "stdout",
     "output_type": "stream",
     "text": [
      "Domingo\n"
     ]
    }
   ],
   "source": [
    "dia = 1\n",
    "\n",
    "match dia:\n",
    "    case 1: \n",
    "        print('Domingo')\n",
    "    case 2: \n",
    "        print('Segunda')\n",
    "    case 3: \n",
    "        print('Terça')\n",
    "    case 4: \n",
    "        print('Quanrta')\n",
    "    case 5: \n",
    "        print('Quinta')\n",
    "    case 6: \n",
    "        print('Sexta')\n",
    "    case 7: \n",
    "        print('Sabaso')\n",
    "    case _:\n",
    "        print('Caso inválido')"
   ]
  },
  {
   "cell_type": "code",
   "execution_count": 23,
   "metadata": {},
   "outputs": [
    {
     "name": "stdout",
     "output_type": "stream",
     "text": [
      "two: x*2 =  4\n"
     ]
    }
   ],
   "source": [
    "def do_one(x):\n",
    "    print('one: x*1 = ', x*1)\n",
    "\n",
    "def do_two(x):\n",
    "    print('two: x*2 = ', x*2)\n",
    "\n",
    "def do_three(x):\n",
    "    print('three: x*3 = ', x*3)\n",
    "\n",
    "def invalid(x):\n",
    "    print('invalid input', x)\n",
    "    \n",
    "x = 2\n",
    "    \n",
    "actions = {1: do_one, 2: do_two, 3: do_three}\n",
    "action = actions.get(x, invalid)\n",
    "if callable(action):\n",
    "    action(x)"
   ]
  }
 ],
 "metadata": {
  "kernelspec": {
   "display_name": "Python 3.10.5 64-bit",
   "language": "python",
   "name": "python3"
  },
  "language_info": {
   "codemirror_mode": {
    "name": "ipython",
    "version": 3
   },
   "file_extension": ".py",
   "mimetype": "text/x-python",
   "name": "python",
   "nbconvert_exporter": "python",
   "pygments_lexer": "ipython3",
   "version": "3.10.5"
  },
  "orig_nbformat": 4,
  "vscode": {
   "interpreter": {
    "hash": "37083a178839ddb6837eca99e3841ef7be6dad5dc50c6d19829e2187d61ddd5d"
   }
  }
 },
 "nbformat": 4,
 "nbformat_minor": 2
}
